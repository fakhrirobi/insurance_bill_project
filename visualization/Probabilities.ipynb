{
 "cells": [
  {
   "cell_type": "code",
   "execution_count": 1,
   "id": "18f7e2b0-d619-4dea-b7fc-646d16c594cb",
   "metadata": {},
   "outputs": [],
   "source": [
    "import pandas as pd \n",
    "import plotly.express as px \n",
    "import plotly.graph_objects as go\n",
    "import plotly.io as pio\n",
    "import kaleido\n",
    "DATA_PATH ='../data/insurance.csv'"
   ]
  },
  {
   "cell_type": "code",
   "execution_count": 2,
   "id": "b60db0cd-6d00-444e-a6e5-d6711a3a429e",
   "metadata": {},
   "outputs": [],
   "source": [
    "insurance = pd.read_csv(DATA_PATH)"
   ]
  },
  {
   "cell_type": "code",
   "execution_count": 3,
   "id": "d73c33ee-070e-4706-b119-fd598b5a70bc",
   "metadata": {},
   "outputs": [
    {
     "data": {
      "text/plain": [
       "Index(['age', 'sex', 'bmi', 'children', 'smoker', 'region', 'charges'], dtype='object')"
      ]
     },
     "execution_count": 3,
     "metadata": {},
     "output_type": "execute_result"
    }
   ],
   "source": [
    "insurance.columns"
   ]
  },
  {
   "cell_type": "markdown",
   "id": "34c88423-817b-4822-8ee5-4e665e4f8ef7",
   "metadata": {},
   "source": [
    "## Objective 1 : Descriptive \n",
    "\n",
    "\n",
    "1. Apakah rata rata umur perempuan dan laki-laki yang merokok sama?\n",
    "2. Mana yang lebih tinggi, rata rata tagihan kesehatan perokok atau non merokok?\n",
    "3. Mana yang lebih tinggi, rata rata tagihan kesehatan perokok yang BMI nya diatas 25 atau non perokok yang BMI nya diatas 25\n",
    "4. BMI mana yang lebih tinggi, seseorang laki-laki atau perempuan?\n",
    "5. BMI mana yang lebih tinggi, seseorang perokok atau non perokok?"
   ]
  },
  {
   "cell_type": "markdown",
   "id": "3c3e7e27-f082-4317-92a6-d1f6746aed0a",
   "metadata": {},
   "source": [
    "### 1.1. Apakah rata rata umur perempuan dan laki-laki yang merokok sama?"
   ]
  },
  {
   "cell_type": "code",
   "execution_count": 4,
   "id": "676bb1c1-f4f7-4e4e-a4e6-8f73a829cc0d",
   "metadata": {},
   "outputs": [
    {
     "data": {
      "text/plain": [
       "0       female\n",
       "1         male\n",
       "2         male\n",
       "3         male\n",
       "4         male\n",
       "         ...  \n",
       "1333      male\n",
       "1334    female\n",
       "1335    female\n",
       "1336    female\n",
       "1337    female\n",
       "Name: sex, Length: 1338, dtype: object"
      ]
     },
     "execution_count": 4,
     "metadata": {},
     "output_type": "execute_result"
    }
   ],
   "source": [
    "insurance.sex"
   ]
  },
  {
   "cell_type": "code",
   "execution_count": 5,
   "id": "ee42b056-a522-4205-a252-4c5982bc24d3",
   "metadata": {},
   "outputs": [
    {
     "name": "stdout",
     "output_type": "stream",
     "text": [
      "Rata-rata umur perempuan yang merokok  38.608695652173914 \n",
      "          sedangkan laki laki perokok 38.44654088050314. \n",
      "          \n"
     ]
    }
   ],
   "source": [
    "male_filter = (insurance['sex']=='male') & (insurance['smoker']=='yes')\n",
    "female_filter = (insurance['sex']=='female') & (insurance['smoker']=='yes')\n",
    "male_smoker_age_mean = insurance.loc[male_filter,'age'].mean()\n",
    "female_smoker_age_mean = insurance.loc[female_filter,'age'].mean()\n",
    "\n",
    "print(f'''Rata-rata umur perempuan yang merokok  {female_smoker_age_mean} \n",
    "          sedangkan laki laki perokok {male_smoker_age_mean}. \n",
    "          ''')"
   ]
  },
  {
   "cell_type": "code",
   "execution_count": 9,
   "id": "75b0cb05-5aec-4fcd-8fe4-d8118122ae2b",
   "metadata": {},
   "outputs": [],
   "source": [
    "box_age_smoker = px.box(insurance.loc[(insurance['smoker']=='yes')],y='age',color='sex',template='ggplot2')\n",
    "box_age_smoker.update_layout(title='Boxplot umur perokok laki laki dan perempuan',height=500,width=500)\n",
    "box_age_smoker.write_image('../visualization/smoker_age_female_male.png', format='png')"
   ]
  },
  {
   "cell_type": "markdown",
   "id": "18d15f52-18e2-4277-95b6-53dd76698f9d",
   "metadata": {},
   "source": [
    "### 1.2. Mana yang lebih tinggi, rata rata tagihan kesehatan perokok atau non merokok?"
   ]
  },
  {
   "cell_type": "code",
   "execution_count": 23,
   "id": "ca246309-7e10-4e1a-9106-f4a89b79831a",
   "metadata": {},
   "outputs": [
    {
     "name": "stdout",
     "output_type": "stream",
     "text": [
      "Rata-rata tagihan perokok  32050.23183153284 \n",
      "          sedangkan non perokok 8434.268297856204. \n",
      "          \n"
     ]
    }
   ],
   "source": [
    "smoker_filter = (insurance['smoker']=='yes')\n",
    "nonsmoker_filter = (insurance['smoker']=='no')\n",
    "\n",
    "smoker_mean_bill = insurance.loc[smoker_filter,'charges'].mean()\n",
    "nonsmoker_mean_bill = insurance.loc[nonsmoker_filter,'charges'].mean()\n",
    "\n",
    "print(f'''Rata-rata tagihan perokok  {smoker_mean_bill} \n",
    "          sedangkan non perokok {nonsmoker_mean_bill}. \n",
    "          ''')"
   ]
  },
  {
   "cell_type": "markdown",
   "id": "4de54474-ea1d-4b42-b16a-10f7fad11485",
   "metadata": {},
   "source": [
    "#### Conclusion \n",
    "Rata-rata Tagihan perokok jauh lebih tinggi daripada non perokok"
   ]
  },
  {
   "cell_type": "markdown",
   "id": "d8126172-0b4e-42d8-9980-082e734d4819",
   "metadata": {},
   "source": [
    "### 1.3.Mana yang lebih tinggi, rata rata tagihan kesehatan perokok yang BMI nya diatas 25 atau non perokok yang BMI nya diatas 25"
   ]
  },
  {
   "cell_type": "code",
   "execution_count": 25,
   "id": "11283622-ccfb-4199-8739-53d166052f11",
   "metadata": {},
   "outputs": [
    {
     "name": "stdout",
     "output_type": "stream",
     "text": [
      "Rata-rata tagihan perokok  dengan BMI diatas 25 : 35116.90965694064 \n",
      "          sedangkan non perokok dengan BMI diatas 25 : 8629.589609712157. \n",
      "          \n"
     ]
    }
   ],
   "source": [
    "smoker_filter_bmi = (insurance['smoker']=='yes') & (insurance['bmi']>25)\n",
    "nonsmoker_filter_bmi = (insurance['smoker']=='no')& (insurance['bmi']>25)\n",
    "\n",
    "smoker_mean_bill_bmi = insurance.loc[smoker_filter_bmi,'charges'].mean()\n",
    "nonsmoker_mean_bill_bmi = insurance.loc[nonsmoker_filter_bmi,'charges'].mean()\n",
    "\n",
    "print(f'''Rata-rata tagihan perokok  dengan BMI diatas 25 : {smoker_mean_bill_bmi} \n",
    "          sedangkan non perokok dengan BMI diatas 25 : {nonsmoker_mean_bill_bmi}. \n",
    "          ''')"
   ]
  },
  {
   "cell_type": "markdown",
   "id": "5a663486-456d-4d39-82ab-33b26510d052",
   "metadata": {},
   "source": [
    "#### Conclusion \n",
    "Rata-rata Tagihan perokok dengan BMI diatas 25  jauh lebih tinggi daripada non perokok dengan BMI diatas 25"
   ]
  },
  {
   "cell_type": "markdown",
   "id": "f7444b74-3ed1-4c60-9362-56e03154c802",
   "metadata": {},
   "source": [
    "### 1.4.BMI mana yang lebih tinggi, seseorang laki-laki atau perempuan?"
   ]
  },
  {
   "cell_type": "code",
   "execution_count": 26,
   "id": "1cde202e-f964-41fa-9a83-b245deb27350",
   "metadata": {},
   "outputs": [
    {
     "name": "stdout",
     "output_type": "stream",
     "text": [
      "Rata-rata BMI perempuan  : 30.37774924471299 \n",
      "          sedangkan BMI laki-laki : 30.943128698224854. \n",
      "          \n"
     ]
    }
   ],
   "source": [
    "male_bmi_filter = (insurance['sex']=='male')\n",
    "female_bmi_filter = (insurance['sex']=='female')\n",
    "\n",
    "male_bmi_mean = insurance.loc[male_bmi_filter,'bmi'].mean()\n",
    "female_bmi_mean = insurance.loc[female_bmi_filter,'bmi'].mean()\n",
    "\n",
    "print(f'''Rata-rata BMI perempuan  : {female_bmi_mean} \n",
    "          sedangkan BMI laki-laki : {male_bmi_mean}. \n",
    "          ''')"
   ]
  },
  {
   "cell_type": "markdown",
   "id": "6885ac85-8831-478e-8acd-9724a69dcf61",
   "metadata": {},
   "source": [
    "#### Conclusion \n",
    "Rata-rata BMI Laki-laki lebih tinggi daripada perempuan"
   ]
  },
  {
   "cell_type": "markdown",
   "id": "0f6be1b7-1d21-4c5e-9dd0-556f9899432f",
   "metadata": {},
   "source": [
    "### 1.5.BMI mana yang lebih tinggi, seseorang perokok atau non perokok?"
   ]
  },
  {
   "cell_type": "code",
   "execution_count": 27,
   "id": "e8477f0f-cbb2-48ff-bbbd-02180cb37b59",
   "metadata": {},
   "outputs": [
    {
     "name": "stdout",
     "output_type": "stream",
     "text": [
      "Rata-rata BMI Perokok  : 30.70844890510949 \n",
      "          sedangkan BMI Non perokok : 30.651795112781954. \n",
      "          \n"
     ]
    }
   ],
   "source": [
    "smoker_filter = (insurance['smoker']=='yes')\n",
    "nonsmoker_filter = (insurance['smoker']=='no')\n",
    "\n",
    "smoker_bmi_mean = insurance.loc[smoker_filter,'bmi'].mean()\n",
    "nonsmoker_bmi_mean = insurance.loc[nonsmoker_filter,'bmi'].mean()\n",
    "\n",
    "print(f'''Rata-rata BMI Perokok  : {smoker_bmi_mean} \n",
    "          sedangkan BMI Non perokok : {nonsmoker_bmi_mean}. \n",
    "          ''')"
   ]
  },
  {
   "cell_type": "markdown",
   "id": "e3f7c149-81ca-4673-8a67-9b739788a025",
   "metadata": {},
   "source": [
    "#### Conclusion \n",
    "Rata-rata BMI Perokok lebih tinggi dibanding Non Perokok"
   ]
  },
  {
   "cell_type": "markdown",
   "id": "f24721cb-4455-440d-bdac-bc552c702680",
   "metadata": {},
   "source": [
    "### 1.c. Berapa rata rata umur pada data tersebut?"
   ]
  },
  {
   "cell_type": "code",
   "execution_count": null,
   "id": "542768a2-e0bb-4483-be90-b5ab3f62f45b",
   "metadata": {},
   "outputs": [],
   "source": []
  },
  {
   "cell_type": "markdown",
   "id": "73bc6d7e-5ff9-4c8b-8120-2d7ef7fcf07a",
   "metadata": {},
   "source": [
    "### 1.c. Berapa rata rata umur pada data tersebut?"
   ]
  },
  {
   "cell_type": "markdown",
   "id": "16cebfd1-eead-4796-8293-3c9856ef0a69",
   "metadata": {},
   "source": [
    "## Objective 2 : Analisa Variabel Kategorik (PMF) \n",
    "\n",
    "1. Gender mana yang memiliki tagihan paling tinggi?\n",
    "2. Distribusi peluang tagihan di tiap-tiap region\n",
    "3. Apakah setiap region memiliki proporsi data banyak orang yang sama?\n",
    "4. Mana yang lebih tinggi proporsi perokok atau non perokok?\n",
    "5. Berapa peluang seseorang tersebut adalah perempuan diketahui dia adalah perokok?\n",
    "6. Berapa peluang seseorang tersebut adalah laki-laki diketahui dia adalah perokok?\n",
    "7. Bagaimana bentuk distribusi tagihan dari tiap-tiap region?"
   ]
  },
  {
   "cell_type": "markdown",
   "id": "e7e359d5-0072-4ac7-80c7-c2019fe538e2",
   "metadata": {},
   "source": [
    "## Objective 3 : Analisa Variabel Kontinu (CDF)\n",
    "\n",
    "1. Mencari peluang besar tagihan berdasarkan BMI\n",
    "2. Mencari kemungkin terjadi, seorang perokok dengan BMI diatas 25 akan mendapatkan tagihan kesehatan di atas 16.700.\n",
    "3. Berapa peluang seseorang acak tagihan kesehatannya diatas 16.7k diketahui dia adalah perokok\n",
    "4. Mana yang lebih mungkin terjadi\n",
    "    a. Seseorang dengan BMI diatas 25 mendapatkan tagihan kesehatan diatas 16.7k,atau\n",
    "    b. Seseorang dengan BMI dibawah 25 mendapatkan tagihan kesehatan diatas 16.7k\n",
    "\n",
    "5. Mana yang lebih mungkin terjadi\n",
    "    a. Seseorang perokok dengan BMI diatas 25 mendapatkan tagihan kesehatan diatas 16.7k, atau\n",
    "    b. Seseorang non perokok dengan BMI diatas 25 mendapatkan tagihan kesehatan diatas 16.7k"
   ]
  },
  {
   "cell_type": "markdown",
   "id": "0b8fc588-059a-429a-abb8-5c7f54623fa6",
   "metadata": {},
   "source": [
    "## Objective 4 : Analisa Korelasi Variabel"
   ]
  },
  {
   "cell_type": "markdown",
   "id": "d44bf937-7d94-4b0a-8026-3719d4d96004",
   "metadata": {},
   "source": [
    "## Objective 5 : Hypothesis Testing"
   ]
  },
  {
   "cell_type": "code",
   "execution_count": null,
   "id": "7bc1969b-3bae-4827-afd1-71cf6d3e1c0d",
   "metadata": {},
   "outputs": [],
   "source": []
  }
 ],
 "metadata": {
  "kernelspec": {
   "display_name": "Python 3 (ipykernel)",
   "language": "python",
   "name": "python3"
  },
  "language_info": {
   "codemirror_mode": {
    "name": "ipython",
    "version": 3
   },
   "file_extension": ".py",
   "mimetype": "text/x-python",
   "name": "python",
   "nbconvert_exporter": "python",
   "pygments_lexer": "ipython3",
   "version": "3.8.10"
  }
 },
 "nbformat": 4,
 "nbformat_minor": 5
}
